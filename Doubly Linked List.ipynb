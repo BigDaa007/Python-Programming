{
  "nbformat": 4,
  "nbformat_minor": 0,
  "metadata": {
    "colab": {
      "name": "scratchpad",
      "provenance": [],
      "include_colab_link": true
    },
    "kernelspec": {
      "display_name": "Python 3",
      "name": "python3"
    }
  },
  "cells": [
    {
      "cell_type": "markdown",
      "metadata": {
        "id": "view-in-github",
        "colab_type": "text"
      },
      "source": [
        "<a href=\"https://colab.research.google.com/github/BigDaa007/Python-Programming/blob/Data-Structures/Doubly%20Linked%20List.ipynb\" target=\"_parent\"><img src=\"https://colab.research.google.com/assets/colab-badge.svg\" alt=\"Open In Colab\"/></a>"
      ]
    },
    {
      "cell_type": "markdown",
      "metadata": {
        "id": "Xpk31bfKiOdM"
      },
      "source": [
        "# ***DOUBLY LINKED LIST***\n",
        "\n",
        "\n",
        "\n",
        "*   Constructor\n",
        "*   Set Head\n",
        "\n",
        "*   Set Tail\n",
        "*   Insert Before\n",
        "\n",
        "\n",
        "*   Insert After\n",
        "*   Insert at a Position\n",
        "\n",
        "*   Remove Node with value x\n",
        "\n",
        "*   Remove \n",
        "*   Contains node with value\n",
        "\n",
        "\n",
        "\n",
        "\n",
        "\n",
        "\n",
        "\n",
        "\n",
        "\n",
        "\n",
        "\n"
      ]
    },
    {
      "cell_type": "markdown",
      "metadata": {
        "id": "wgBW3rJojT8D"
      },
      "source": [
        " ## Constructor"
      ]
    },
    {
      "cell_type": "code",
      "metadata": {
        "id": "lIYdn1woOS1n"
      },
      "source": [
        "def __init__(self):\n",
        "    self.head = None\n",
        "    self.tail = None"
      ],
      "execution_count": 1,
      "outputs": []
    },
    {
      "cell_type": "markdown",
      "metadata": {
        "id": "vmDOyflIjwkG"
      },
      "source": [
        " ## Set Head"
      ]
    },
    {
      "cell_type": "code",
      "metadata": {
        "id": "o8XFTFBGj2LH"
      },
      "source": [
        "def setHead(self,node):\n",
        "    pass"
      ],
      "execution_count": null,
      "outputs": []
    },
    {
      "cell_type": "markdown",
      "metadata": {
        "id": "c7ESbNloj9kr"
      },
      "source": [
        " ## Set Tail"
      ]
    },
    {
      "cell_type": "code",
      "metadata": {
        "id": "uVzGTz-YkDJq"
      },
      "source": [
        "def setTail(self,node):\n",
        "    pass\n",
        "    "
      ],
      "execution_count": 2,
      "outputs": []
    },
    {
      "cell_type": "markdown",
      "metadata": {
        "id": "BCCLtiKHkSom"
      },
      "source": [
        " ## Insert Before"
      ]
    },
    {
      "cell_type": "code",
      "metadata": {
        "id": "C4JgAAZikWEF"
      },
      "source": [
        "def insertBefore(self,node,nodeToInsert):\n",
        "    pass"
      ],
      "execution_count": 3,
      "outputs": []
    },
    {
      "cell_type": "markdown",
      "metadata": {
        "id": "HjL7kWYHkguo"
      },
      "source": [
        " ## Insert After"
      ]
    },
    {
      "cell_type": "code",
      "metadata": {
        "id": "XEAo5SbekgJy"
      },
      "source": [
        "def insertAfter(self,node,nodeToInsert):\n",
        "    pass"
      ],
      "execution_count": 4,
      "outputs": []
    },
    {
      "cell_type": "markdown",
      "metadata": {
        "id": "JBS6NXqikteW"
      },
      "source": [
        " ## Insert at a Position"
      ]
    },
    {
      "cell_type": "code",
      "metadata": {
        "id": "0NXRSDLwkexd"
      },
      "source": [
        "def insertAtPosition(self,node,nodeToInsert):\n",
        "    pass"
      ],
      "execution_count": 5,
      "outputs": []
    },
    {
      "cell_type": "markdown",
      "metadata": {
        "id": "KJ_avXHTlH9-"
      },
      "source": [
        " ## Remove Nodes with value"
      ]
    },
    {
      "cell_type": "code",
      "metadata": {
        "id": "AF2HaabAlHlg"
      },
      "source": [
        "def removeNodesWithValue(self, value):\n",
        "    pass"
      ],
      "execution_count": 6,
      "outputs": []
    },
    {
      "cell_type": "markdown",
      "metadata": {
        "id": "ehj8VZ0DlVVe"
      },
      "source": [
        " ## Remove a node\n",
        "\n",
        "*   If Node == Head  :   Update the Head\n",
        "*   If Node == Tail  :   Update the Tail\n",
        "\n",
        "\n",
        "*   If some other node then RemoveNodeBindings(node)\n",
        "\n",
        "\n"
      ]
    },
    {
      "cell_type": "code",
      "metadata": {
        "id": "SDx7jwnclGlp"
      },
      "source": [
        "def remove(self,node):\n",
        "    #If the node to be removed is Head\n",
        "    if (node == self.head):\n",
        "        self.head = self.head.next\n",
        "    #If the node to be removed is Tail\n",
        "    if (node == self.tail):\n",
        "        self.tail = self.tail.prev\n",
        "    #If the node to be removed is some other node\n",
        "    self.removeNodeBindings(node)\n",
        "    "
      ],
      "execution_count": 9,
      "outputs": []
    },
    {
      "cell_type": "markdown",
      "metadata": {
        "id": "ffZE2EEtle7k"
      },
      "source": [
        " ## Contains Node with Value\n",
        "\n",
        "\n",
        "*   Traverse the LL and check if there is any node whose value matches the given value.\n",
        "\n",
        "\n"
      ]
    },
    {
      "cell_type": "code",
      "metadata": {
        "id": "dd-Ib9NBlkJB"
      },
      "source": [
        "def containsNodewithValue(self,value):\n",
        "    # assign head to the node and traverse further\n",
        "    node = self.head\n",
        "    while node is not None and node.value != value:\n",
        "        node = node.next\n",
        "    return node is not none\n",
        "\n"
      ],
      "execution_count": null,
      "outputs": []
    },
    {
      "cell_type": "markdown",
      "metadata": {
        "id": "11qcFBImrGGv"
      },
      "source": [
        " ## Remove Node Bindings\n",
        "\n",
        "*   make connections between the previous node and the next node\n",
        "*   make the pointers of the node to None\n",
        "\n"
      ]
    },
    {
      "cell_type": "code",
      "metadata": {
        "id": "dReGKO0WrL6z"
      },
      "source": [
        "def removeNodeBindings(self,node):\n",
        "    if node.prev is not None:\n",
        "        node.prev.next = node.next\n",
        "    if node.next is not None:\n",
        "        node.next.prev = node.prev\n",
        "    node.prev = None\n",
        "    node.nxt  = None \n"
      ],
      "execution_count": 7,
      "outputs": []
    }
  ]
}