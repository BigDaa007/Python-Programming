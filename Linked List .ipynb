{
  "nbformat": 4,
  "nbformat_minor": 0,
  "metadata": {
    "colab": {
      "name": "scratchpad",
      "provenance": [],
      "include_colab_link": true
    },
    "kernelspec": {
      "display_name": "Python 3",
      "name": "python3"
    }
  },
  "cells": [
    {
      "cell_type": "markdown",
      "metadata": {
        "id": "view-in-github",
        "colab_type": "text"
      },
      "source": [
        "<a href=\"https://colab.research.google.com/github/BigDaa007/Python-Programming/blob/Data-Structures/Linked%20List%20.ipynb\" target=\"_parent\"><img src=\"https://colab.research.google.com/assets/colab-badge.svg\" alt=\"Open In Colab\"/></a>"
      ]
    },
    {
      "cell_type": "markdown",
      "metadata": {
        "id": "f_KPB23MiXVY"
      },
      "source": [
        " # Create an Empty Node"
      ]
    },
    {
      "cell_type": "code",
      "metadata": {
        "id": "2YYKqzvnicgu"
      },
      "source": [
        "class Node:\n",
        "    def __init__(self,data):\n",
        "        self.data = data\n",
        "        self.next = None"
      ],
      "execution_count": 24,
      "outputs": []
    },
    {
      "cell_type": "code",
      "metadata": {
        "colab": {
          "base_uri": "https://localhost:8080/"
        },
        "id": "CyKNYCNYizcf",
        "outputId": "d4bdfd24-c598-496c-8e2c-450d2319af90"
      },
      "source": [
        "a = Node(13)\n",
        "b = Node(15)\n",
        "a.next = b\n",
        "print(a)\n",
        "print(b)\n",
        "print(a.data)\n",
        "print(b.data)\n",
        "print(a.next.data)"
      ],
      "execution_count": 16,
      "outputs": [
        {
          "output_type": "stream",
          "text": [
            "<__main__.Node object at 0x7f65b27093d0>\n",
            "<__main__.Node object at 0x7f65b2709390>\n",
            "13\n",
            "15\n",
            "15\n"
          ],
          "name": "stdout"
        }
      ]
    },
    {
      "cell_type": "markdown",
      "metadata": {
        "id": "uZe98K4tNIMb"
      },
      "source": [
        " # Print the Linked List"
      ]
    },
    {
      "cell_type": "code",
      "metadata": {
        "id": "3vSYcSS_k94m"
      },
      "source": [
        "def printLL(head):\n",
        "    while head is not None:\n",
        "        print(str(head.data) +'->', end='')\n",
        "        head = head.next\n",
        "    print('None')\n",
        "    return"
      ],
      "execution_count": 22,
      "outputs": []
    },
    {
      "cell_type": "markdown",
      "metadata": {
        "id": "jMtFs2AzNO-K"
      },
      "source": [
        " # Take Inputs in a linked list in O(n) time"
      ]
    },
    {
      "cell_type": "code",
      "metadata": {
        "id": "j73hy9YVi-ue"
      },
      "source": [
        "class Node:\n",
        "    def __init__(self,data):\n",
        "        self.data = data\n",
        "        self.next = None\n",
        "\n",
        "def printLL(head):\n",
        "    while head is not None:\n",
        "        print(str(head.data) +'->', end='')\n",
        "        head = head.next\n",
        "    print('None')\n",
        "    return\n",
        "\n",
        "def takeInput():\n",
        "    inputList = [int(ele) for ele in input().split()]\n",
        "    head = None\n",
        "    tail = None\n",
        "    for currData in inputList:\n",
        "        if currData == -1:\n",
        "            break\n",
        "\n",
        "        newNode = Node(currData)\n",
        "        if head is None:\n",
        "            head = newNode\n",
        "            tail = newNode\n",
        "        else:\n",
        "            tail.next = newNode\n",
        "            tail = newNode\n",
        "    return head\n",
        "\n",
        "    "
      ],
      "execution_count": 29,
      "outputs": []
    },
    {
      "cell_type": "code",
      "metadata": {
        "colab": {
          "base_uri": "https://localhost:8080/"
        },
        "id": "SDJ9lSOql2UL",
        "outputId": "2da8024e-0c55-490e-97ec-39355afcb80d"
      },
      "source": [
        "head = takeInput()\n",
        "printLL(head)"
      ],
      "execution_count": 30,
      "outputs": [
        {
          "output_type": "stream",
          "text": [
            "1 5 7 3 6 2\n",
            "1->5->7->3->6->2->None\n"
          ],
          "name": "stdout"
        }
      ]
    }
  ]
}